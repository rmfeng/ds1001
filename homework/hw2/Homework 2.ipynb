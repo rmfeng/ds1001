{
 "cells": [
  {
   "cell_type": "markdown",
   "metadata": {},
   "source": [
    "# Introduction to Data Science\n",
    "## Homework 2"
   ]
  },
  {
   "cell_type": "markdown",
   "metadata": {},
   "source": [
    "Student Name: Rong Feng\n",
    "\n",
    "Student Netid: N11873693\n",
    "***"
   ]
  },
  {
   "cell_type": "markdown",
   "metadata": {},
   "source": [
    "### Part 1: Case study (5 Points)\n",
    "- Read [this article](http://www.nytimes.com/2012/02/19/magazine/shopping-habits.html) in the New York Times.\n",
    "- Use what we've learned in class and from the book to describe how one could set Target's problem up as a predictive modeling problem, such that they could have gotten the results that they did.  Formulate your solution as a proposed plan using our data science terminology.  Include all the aspects of the formulation that you see as relevant to solving the problem.  Be precise but concise."
   ]
  },
  {
   "cell_type": "markdown",
   "metadata": {},
   "source": [
    "Brainstorm: (Problem, Plan, Data, Analysis, Conclusion)\n",
    "\n",
    "- Problem is trying to predict when a customer is pregnant and due based on their past purchase history\n",
    "- What kind of data do we have?\n",
    "    - What products where purchased?\n",
    "    - Where are the products purchased?\n",
    "    - How did the customer pay?\n",
    "    - What kind of online activity did the customer do?\n",
    "    - demographic information\n",
    "- How are the above extracted as features? how to produce the labels?\n",
    "- How do we construct the training, validation and test set?\n",
    "- How to feed it to a supervised training learner\n",
    "- How to measure the accuracy? split between type 1 and type 2 errors?\n",
    "\n"
   ]
  },
  {
   "cell_type": "markdown",
   "metadata": {},
   "source": [
    "**[STUDENT ANSWER]**\n",
    "\n",
    "To tackle Target's problem of predicting pregnancy and delivery date based on shopping patterns, we can formalize the Problem, Data, Feature Extraction/Labeling, Modeling/Hypothesis Selection and Training sections of the problem by examining each part separately. In our terminology, this is a supervised learning problem. The write up will be made under the assumption that we are not sensitive to the considerations of Public Relations for the company and does not consider the sensitivity of information.\n",
    "\n",
    "#### Problem\n",
    "\n",
    "In order to target customer habits when they are the most open to change, we need to be able to predict these periods of time based on information we have on each customer. One such time in many peole's lives is the arrival of a new baby. However, since births records are public, there is a lot of competition amongst marketers immediately after birth. We would like to identify high probability pregnancies before the delivery date. The target variables in this case would be whether a person is pregnant and their delivery date.\n",
    "\n",
    "#### Data\n",
    "\n",
    "As the article as indicated, Target collects a large amount of information on their customers and associates all of the data on each customer with a unique GuestID. This data includes the time, types and amount of product a customer is purchasing as well as the location/medium through which the customer enacted the transaction. It was detailed explicitly in the article, but it is also possible that the method of transaction (cash or credit or other) is record as well. Further, personal information about the guest, such as age, sex, income bracket could also be tracked.\n",
    "\n",
    "#### Feature Extraction / Labeling\n",
    "\n",
    "The features to consider is not only the products that the guest is purchasing, but also the timing and method that those products are being purchased. When available, we should also extract the personal information such as age, sex and income as features as they may have an impact on the target variables. For labeling, the baby-shower registry is a good starting point as we would know people who create a baby-shower registry is likely pregnant. We can also expand the labeled dataset by looking at the public birth records as indicated in the article. Finally we can further expand the dataset by exploring the products that confirm a baby such as diapers and formula. When considering the three different ways that data is labeled, we will need to becareful in dealing with potential biases between the labeling types - perhaps some methods are better at predicting true births than others.\n",
    "\n",
    "#### Modeling / Hypothesis Selection\n",
    "\n",
    "Since we are not only interested in the boolean target variable of whether a person is pregnant, but also interested in predicting the delivery date, not only do we have a classification problem, we also have a regression problem. However, it is possible to discretize the delivery date and reduce the full problem to just a classification problem. For example, we can discretize it to {'Not Pregnant', 'First Trimester', 'Second Trimester', 'Third Trimester'}. If we choose to approach it as a classification problem, we can try the decision tree approach covered in class, as well as differet linear or non-linear classifiers or neural networks. Alternatively, if we decide to keep the problem as a classification {'Pregnant', 'Not Pregnant'} in conjunction with a regression problem (how many months to delivery), we can explore first the classification techniques mentioned above for the classification problem and then various regression techniques such as ols, gls, logit and neural networks.\n",
    "\n",
    "#### Training\n",
    "\n",
    "This will depend on the model that we choose, some are closed form and others are iterative. In each case we will need to carefully split our data into Training, Validation and Test sets to train on the Training set, score using the validating set during training and then estimate real world performance using the Test set.\n",
    "\n",
    "\n",
    "\n",
    "\n"
   ]
  },
  {
   "cell_type": "markdown",
   "metadata": {},
   "source": [
    "### Part 2: Exploring data in the command line (4 Points)\n",
    "For this part we will be using the data file located in `\"data/advertising_events.csv\"`. This file consists of records that pertain to some online advertising events on a given day. There are 4 comma separated columns in this order: `userid`, `timestamp`, `domain`, and `action`. These fields are of type `int`, `int`, `string`, and `int` respectively. Answer the following questions using Linux/Unix bash commands. All questions can be answered in one line (sometimes, with pipes)! Some questions will have many possible solutions. Don't forget that in IPython notebooks you must prefix all bash commands with an exclamation point, i.e. `\"!command arguments\"`.\n",
    "\n",
    "[Hints: You can experiment with whatever you want in the notebook and then delete things to construct your answer later.  You can also use ssh to use the actual bash shell on EC2 (see original directions) and then just paste your answers here. Recall that once you enter the \"!\" then filename completion should work.]"
   ]
  },
  {
   "cell_type": "markdown",
   "metadata": {},
   "source": [
    "1\\. How many records (lines) are in this file? (look up 'wc' command)"
   ]
  },
  {
   "cell_type": "code",
   "execution_count": null,
   "metadata": {},
   "outputs": [],
   "source": [
    "# Place your code here"
   ]
  },
  {
   "cell_type": "markdown",
   "metadata": {},
   "source": [
    "2\\. How many unique users are in this file? (hint: consider the 'cut' command and use pipe operator '|')"
   ]
  },
  {
   "cell_type": "code",
   "execution_count": null,
   "metadata": {
    "collapsed": true
   },
   "outputs": [],
   "source": [
    "# Place your code here"
   ]
  },
  {
   "cell_type": "markdown",
   "metadata": {},
   "source": [
    "3\\. Rank all domains by the number of visits they received in descending order. (hint: consider the 'cut', 'uniq' and 'sort' commands and the pipe operator)."
   ]
  },
  {
   "cell_type": "code",
   "execution_count": null,
   "metadata": {
    "collapsed": true
   },
   "outputs": [],
   "source": [
    "# Place your code here"
   ]
  },
  {
   "cell_type": "markdown",
   "metadata": {},
   "source": [
    "4\\. List all records for the user with user id 37. (hint: this can be done using 'grep')"
   ]
  },
  {
   "cell_type": "code",
   "execution_count": null,
   "metadata": {
    "collapsed": true
   },
   "outputs": [],
   "source": [
    "# Place your code here"
   ]
  },
  {
   "cell_type": "markdown",
   "metadata": {},
   "source": [
    "### Part 3: Dealing with data Pythonically (16 Points)"
   ]
  },
  {
   "cell_type": "markdown",
   "metadata": {},
   "source": [
    "1\\. (1 Point) Download the data set `\"data/ads_dataset.tsv\"` and load it into a Python Pandas data frame called `ads`."
   ]
  },
  {
   "cell_type": "code",
   "execution_count": null,
   "metadata": {
    "collapsed": true
   },
   "outputs": [],
   "source": [
    "# Place your code here"
   ]
  },
  {
   "cell_type": "markdown",
   "metadata": {},
   "source": [
    "2\\. (4 Points) Write a Python function called `getDfSummary()` that does the following:\n",
    "- Takes as input a data frame\n",
    "- For each variable in the data frame calculates the following features:\n",
    "  - `number_nan` to count the number of missing not-a-number values\n",
    "  - Ignoring missing, NA, and Null values:\n",
    "    - `number_distinct` to count the number of distinct values a variable can take on\n",
    "    - `mean`, `max`, `min`, `std` (standard deviation), and `25%`, `50%`, `75%` to correspond to the appropriate percentiles\n",
    "- All of these new features should be loaded in a new data frame. Each row of the data frame should be a variable from the input data frame, and the columns should be the new summary features.\n",
    "- Returns this new data frame containing all of the summary information\n",
    "\n",
    "Hint: The pandas `describe()` method returns a useful series of values that can be used here."
   ]
  },
  {
   "cell_type": "code",
   "execution_count": null,
   "metadata": {
    "collapsed": true
   },
   "outputs": [],
   "source": [
    "def getDfSummary(input_data):\n",
    "    # Place your code here\n",
    "    \n",
    "    return output_data"
   ]
  },
  {
   "cell_type": "markdown",
   "metadata": {},
   "source": [
    "3\\. How long does it take for your `getDfSummary()` function to work on your `ads` data frame? Show us the results below.\n",
    "\n",
    "Hint: `use %timeit`"
   ]
  },
  {
   "cell_type": "code",
   "execution_count": null,
   "metadata": {
    "collapsed": true
   },
   "outputs": [],
   "source": [
    "# Place your code here"
   ]
  },
  {
   "cell_type": "markdown",
   "metadata": {},
   "source": [
    "4\\. (2 Points) Using the results returned from `getDfSummary()`, which fields, if any, contain missing `NaN` values?"
   ]
  },
  {
   "cell_type": "code",
   "execution_count": null,
   "metadata": {
    "collapsed": true
   },
   "outputs": [],
   "source": [
    "# Place your code here"
   ]
  },
  {
   "cell_type": "markdown",
   "metadata": {},
   "source": [
    "5\\. (4 Points) For the fields with missing values, does it look like the data is missing at random? Are there any other fields that correlate perfectly, or predict that the data is missing? If missing, what should the data value be? Don't just show code here. Please explain your answer.\n",
    "\n",
    "Hint: create another data frame that has just the records with a missing value. Get a summary of this data frame using `getDfSummary()` and compare the differences. Do some feature distributions change dramatically?"
   ]
  },
  {
   "cell_type": "code",
   "execution_count": null,
   "metadata": {
    "collapsed": true
   },
   "outputs": [],
   "source": [
    "# Place your code here"
   ]
  },
  {
   "cell_type": "markdown",
   "metadata": {},
   "source": [
    "6\\. (4 Points) Which variables are binary?"
   ]
  },
  {
   "cell_type": "code",
   "execution_count": null,
   "metadata": {},
   "outputs": [],
   "source": [
    "# Place your code here"
   ]
  }
 ],
 "metadata": {
  "kernelspec": {
   "display_name": "Python 3",
   "language": "python",
   "name": "python3"
  },
  "language_info": {
   "codemirror_mode": {
    "name": "ipython",
    "version": 3
   },
   "file_extension": ".py",
   "mimetype": "text/x-python",
   "name": "python",
   "nbconvert_exporter": "python",
   "pygments_lexer": "ipython3",
   "version": "3.6.6"
  }
 },
 "nbformat": 4,
 "nbformat_minor": 1
}
